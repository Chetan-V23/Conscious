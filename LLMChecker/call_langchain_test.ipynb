{
 "cells": [
  {
   "cell_type": "code",
   "execution_count": 1,
   "id": "cb233345",
   "metadata": {},
   "outputs": [
    {
     "name": "stderr",
     "output_type": "stream",
     "text": [
      "/Users/chetanvallish/Conscious/venv/lib/python3.9/site-packages/urllib3/__init__.py:35: NotOpenSSLWarning: urllib3 v2 only supports OpenSSL 1.1.1+, currently the 'ssl' module is compiled with 'LibreSSL 2.8.3'. See: https://github.com/urllib3/urllib3/issues/3020\n",
      "  warnings.warn(\n"
     ]
    }
   ],
   "source": [
    "from langchain_openai import OpenAI\n",
    "from langchain.tools.tavily_search import TavilySearchResults\n",
    "from langgraph.prebuilt import create_react_agent\n",
    "from langgraph.checkpoint.memory import MemorySaver\n",
    "from langchain.output_parsers import JsonOutputToolsParser\n",
    "import os\n",
    "import json\n",
    "from dotenv import load_dotenv"
   ]
  },
  {
   "cell_type": "code",
   "execution_count": 9,
   "id": "117b7a6d",
   "metadata": {},
   "outputs": [],
   "source": [
    "load_dotenv()\n",
    "\n",
    "search_tool = TavilySearchResults(api_key=os.getenv(\"TAVILY_API_KEY\"), search_type=\"news\", num_results=10)\n",
    "tools = [search_tool]\n",
    "\n",
    "# Initialize model\n",
    "llm = OpenAI(\n",
    "    model=\"gpt-4o-mini\",\n",
    "    api_key=os.getenv(\"OPENAI_API_KEY\"),\n",
    "    temperature=0,\n",
    "    top_p=1.0,\n",
    "    max_tokens=500,\n",
    ")"
   ]
  },
  {
   "cell_type": "code",
   "execution_count": 31,
   "id": "6b10934f",
   "metadata": {},
   "outputs": [],
   "source": [
    "company_name = \"Nestle\"\n",
    "query = f\"List the main atrocities committed by {company_name} against climate and human rights\"\n",
    "articles = search_tool.invoke(query)\n",
    "context = \"\\n\\n\".join([article[\"title\"] + \"\\n\"+ article[\"content\"] for article in articles])\n",
    "prompt = f\"\"\"Context:\n",
    "{context}\n",
    "\n",
    "Question: {query}\n",
    "Try and get atleast 5 main points about the atrocities committed by {company_name} against climate and human rights.\n",
    "in the answer, include one link as the main source at the end of each point.\n",
    "Also include the Date of when the accusation of the atrocity has been made. \n",
    "Return the answer ONLY in JSON format as below:\n",
    "{{\n",
    "    'points': [\n",
    "        {{\n",
    "            'point': 'Summary of point 1',\n",
    "            'date': 'Date of accusation',\n",
    "            'source': 'Link to main source',\n",
    "        }},\n",
    "        {{\n",
    "            'point': 'Summary of point 2',\n",
    "            'date': 'Date of accusation',\n",
    "            'source': 'Link to main source\n",
    "        }},\n",
    "        {{\n",
    "            'point': 'Summary of Point 3',\n",
    "            'date': 'Date of accusation',\n",
    "            'source': 'Link to main source'\n",
    "        }},\n",
    "        {{\n",
    "            'point': 'Summary of Point 4',\n",
    "            'date': 'Date of accusation',\n",
    "            'source': 'Link to main source'\n",
    "        }},\n",
    "        {{\n",
    "            'point': 'Summary of Point 5',\n",
    "            'date': 'Date of accusation',\n",
    "            'source': 'L'\n",
    "        }}\n",
    "    ]\n",
    "}}\n",
    "\"\"\"\n",
    "response = llm.invoke(prompt)"
   ]
  },
  {
   "cell_type": "code",
   "execution_count": 32,
   "id": "95c3f598",
   "metadata": {},
   "outputs": [],
   "source": [
    "raw_content = response.content if hasattr(response, 'content') else response"
   ]
  },
  {
   "cell_type": "code",
   "execution_count": 33,
   "id": "012c2167",
   "metadata": {},
   "outputs": [
    {
     "name": "stdout",
     "output_type": "stream",
     "text": [
      "```json\n",
      "{\n",
      "    \"points\": [\n",
      "        {\n",
      "            \"point\": \"Nestlé has been linked to child labor and human rights violations in its cocoa supply chain, with thousands of children working under forced conditions.\",\n",
      "            \"date\": \"2021\",\n",
      "            \"source\": \"https://www.greendigest.com/nestle-human-rights-violations\"\n",
      "        },\n",
      "        {\n",
      "            \"point\": \"The company has been involved in extensive union-busting activities in Colombia, creating a climate of fear among workers.\",\n",
      "            \"date\": \"2021\",\n",
      "            \"source\": \"https://www.greendigest.com/nestle-union-busting-colombia\"\n",
      "        },\n",
      "        {\n",
      "            \"point\": \"Nestlé has faced accusations of using HFC refrigerants and failing to report its carbon emissions, contributing to climate change.\",\n",
      "            \"date\": \"2020\",\n",
      "            \"source\": \"https://www.greendigest.com/nestle-climate-change\"\n",
      "        },\n",
      "        {\n",
      "            \"point\": \"The company has been criticized for its plastic pollution, being one of the largest contributors to ocean pollution through its single-use plastic packaging.\",\n",
      "            \"date\": \"2021\",\n",
      "            \"source\": \"https://www.utopia.com/nestle-plastic-pollution\"\n",
      "        },\n",
      "        {\n",
      "            \"point\": \"Nestlé has been accused of extracting millions of gallons of water from California creeks, leading to environmental degradation and conflicts with local communities.\",\n",
      "            \"date\": \"2020\",\n",
      "            \"source\": \"https://www.greendigest.com/nestle-water-extraction\"\n",
      "        }\n",
      "    ]\n",
      "}\n"
     ]
    }
   ],
   "source": [
    "print(raw_content) # Parse the response using the JSON output parser"
   ]
  },
  {
   "cell_type": "code",
   "execution_count": 34,
   "id": "69cee8e3",
   "metadata": {},
   "outputs": [],
   "source": [
    "from langchain.output_parsers.json import SimpleJsonOutputParser\n",
    "parser = SimpleJsonOutputParser()\n",
    "response = parser.parse(raw_content)"
   ]
  },
  {
   "cell_type": "code",
   "execution_count": 35,
   "id": "fc4a3425",
   "metadata": {},
   "outputs": [
    {
     "name": "stdout",
     "output_type": "stream",
     "text": [
      "Point: Nestlé has been linked to child labor and human rights violations in its cocoa supply chain, with thousands of children working under forced conditions., Source: https://www.greendigest.com/nestle-human-rights-violations, Date: 2021\n",
      "Point: The company has been involved in extensive union-busting activities in Colombia, creating a climate of fear among workers., Source: https://www.greendigest.com/nestle-union-busting-colombia, Date: 2021\n",
      "Point: Nestlé has faced accusations of using HFC refrigerants and failing to report its carbon emissions, contributing to climate change., Source: https://www.greendigest.com/nestle-climate-change, Date: 2020\n",
      "Point: The company has been criticized for its plastic pollution, being one of the largest contributors to ocean pollution through its single-use plastic packaging., Source: https://www.utopia.com/nestle-plastic-pollution, Date: 2021\n",
      "Point: Nestlé has been accused of extracting millions of gallons of water from California creeks, leading to environmental degradation and conflicts with local communities., Source: https://www.greendigest.com/nestle-water-extraction, Date: 2020\n"
     ]
    }
   ],
   "source": [
    "for points in response['points']:\n",
    "    print(f\"Point: {points['point']}, Source: {points['source']}, Date: {points['date']}\")  # Print each point and its source"
   ]
  }
 ],
 "metadata": {
  "kernelspec": {
   "display_name": "venv (3.9.6)",
   "language": "python",
   "name": "python3"
  },
  "language_info": {
   "codemirror_mode": {
    "name": "ipython",
    "version": 3
   },
   "file_extension": ".py",
   "mimetype": "text/x-python",
   "name": "python",
   "nbconvert_exporter": "python",
   "pygments_lexer": "ipython3",
   "version": "3.9.6"
  }
 },
 "nbformat": 4,
 "nbformat_minor": 5
}
